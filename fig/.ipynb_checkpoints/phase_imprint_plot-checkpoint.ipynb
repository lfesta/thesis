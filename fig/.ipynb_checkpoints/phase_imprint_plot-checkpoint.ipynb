{
 "metadata": {
  "name": "",
  "signature": "sha256:ba35c9c50db2ec42c3c1799628fc2ecf1991690011e65dde951513a542c999fc"
 },
 "nbformat": 3,
 "nbformat_minor": 0,
 "worksheets": [
  {
   "cells": [
    {
     "cell_type": "code",
     "collapsed": false,
     "input": [
      "import numpy as np\n",
      "import matplotlib as mpl\n",
      "import matplotlib.pyplot as plt\n",
      "import math\n",
      "\n",
      "mpl.rc('text', usetex = True)\n",
      "\n",
      "def theta(x):\n",
      "    return 0.5 * (np.sign(x) + 1)\n",
      "    \n",
      "def phi_1(x):\n",
      "    return np.pi*0.5 * (np.sign(x) + 1)\n",
      "    \n",
      "def phi_2(x):\n",
      "    return -np.pi*0.5 * (np.sign(x) + 1) - np.pi/4.\n",
      "    \n",
      "x = np.arange(-150.,150,0.1)\n",
      "\n",
      "plt.figure(1)\n",
      "plt.subplot(211)\n",
      "plt.axis([-150,150,-0.1,1.1])\n",
      "plt.plot(x, theta(x), 'k')\n",
      "plt.grid(True)\n",
      "\n",
      "plt.subplot(212)\n",
      "plt.axis([-150,150,-2*np.pi,2*np.pi])\n",
      "plt.plot(x, phi_1(x), 'k', x, phi_2(x), 'b')\n",
      "plt.yticks(np.arange(-2*np.pi, 2*np.pi + 1, 0.5*np.pi), [r'$-2\\pi$', r'$-3/2 \\pi$', r'$-\\pi$', r'$-1/2 \\pi$', '$0$', r'$1/2 \\pi$', r'$\\pi$', r'$3/2 \\pi$', r'$2 \\pi$'])\n",
      "plt.grid(True)\n",
      "\n",
      "plt.show()"
     ],
     "language": "python",
     "metadata": {},
     "outputs": []
    }
   ],
   "metadata": {}
  }
 ]
}